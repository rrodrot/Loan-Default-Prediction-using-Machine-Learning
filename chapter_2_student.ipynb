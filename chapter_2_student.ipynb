{
 "cells": [
  {
   "cell_type": "markdown",
   "metadata": {},
   "source": [
    "# Vehicle Loan Prediction Machine Learning Model\n",
    "\n",
    "# Chapter 2 - Load and Clean the Data\n",
    "\n",
    "## Lesson 1 - Getting Started\n",
    "\n",
    "In this lesson, we will import the required libraries and load the data!\n",
    "\n",
    "### Import Libraries"
   ]
  },
  {
   "cell_type": "code",
   "execution_count": 1,
   "metadata": {},
   "outputs": [],
   "source": [
    "import pandas as pd\n",
    "import matplotlib.pyplot as plt\n",
    "import numpy as np\n",
    "import seaborn as sns"
   ]
  },
  {
   "cell_type": "markdown",
   "metadata": {},
   "source": [
    "### Loading the Data\n",
    "\n",
    "- Our vehicle loan data is provided in csv format \n",
    "- We can load it into python as a [DataFrame](https://pandas.pydata.org/pandas-docs/stable/reference/api/pandas.DataFrame.html) with [pd.read_csv](https://pandas.pydata.org/pandas-docs/stable/reference/api/pandas.read_csv.html)\n",
    "- Each loan in our dataset has a UNIQUEID which we will use as the row index\n",
    "\n",
    "First, let's use pandas to load our loan data and store it in a variable called loan_df\n",
    "\n",
    "- Replace ‘../data/vehicle_loans.csv’ with your local file path and name"
   ]
  },
  {
   "cell_type": "code",
   "execution_count": 2,
   "metadata": {},
   "outputs": [],
   "source": [
    "#Load data\n",
    "loan_df = pd.read_csv(r'C:\\Users\\richard.rodrot\\Desktop\\Predicting loan defaults\\data\\vehicle_loans.csv', index_col = 'UNIQUEID')"
   ]
  },
  {
   "cell_type": "markdown",
   "metadata": {},
   "source": [
    "We can use [df.head](https://pandas.pydata.org/pandas-docs/stable/reference/api/pandas.DataFrame.head.html) to get the first n rows from a DataFrame\n",
    "\n",
    "- defaults to bring out the first 5 rows"
   ]
  },
  {
   "cell_type": "code",
   "execution_count": 3,
   "metadata": {},
   "outputs": [
    {
     "data": {
      "text/html": [
       "<div>\n",
       "<style scoped>\n",
       "    .dataframe tbody tr th:only-of-type {\n",
       "        vertical-align: middle;\n",
       "    }\n",
       "\n",
       "    .dataframe tbody tr th {\n",
       "        vertical-align: top;\n",
       "    }\n",
       "\n",
       "    .dataframe thead th {\n",
       "        text-align: right;\n",
       "    }\n",
       "</style>\n",
       "<table border=\"1\" class=\"dataframe\">\n",
       "  <thead>\n",
       "    <tr style=\"text-align: right;\">\n",
       "      <th></th>\n",
       "      <th>DISBURSED_AMOUNT</th>\n",
       "      <th>ASSET_COST</th>\n",
       "      <th>LTV</th>\n",
       "      <th>BRANCH_ID</th>\n",
       "      <th>SUPPLIER_ID</th>\n",
       "      <th>MANUFACTURER_ID</th>\n",
       "      <th>CURRENT_PINCODE_ID</th>\n",
       "      <th>DATE_OF_BIRTH</th>\n",
       "      <th>EMPLOYMENT_TYPE</th>\n",
       "      <th>DISBURSAL_DATE</th>\n",
       "      <th>...</th>\n",
       "      <th>SEC_SANCTIONED_AMOUNT</th>\n",
       "      <th>SEC_DISBURSED_AMOUNT</th>\n",
       "      <th>PRIMARY_INSTAL_AMT</th>\n",
       "      <th>SEC_INSTAL_AMT</th>\n",
       "      <th>NEW_ACCTS_IN_LAST_SIX_MONTHS</th>\n",
       "      <th>DELINQUENT_ACCTS_IN_LAST_SIX_MONTHS</th>\n",
       "      <th>AVERAGE_ACCT_AGE</th>\n",
       "      <th>CREDIT_HISTORY_LENGTH</th>\n",
       "      <th>NO_OF_INQUIRIES</th>\n",
       "      <th>LOAN_DEFAULT</th>\n",
       "    </tr>\n",
       "    <tr>\n",
       "      <th>UNIQUEID</th>\n",
       "      <th></th>\n",
       "      <th></th>\n",
       "      <th></th>\n",
       "      <th></th>\n",
       "      <th></th>\n",
       "      <th></th>\n",
       "      <th></th>\n",
       "      <th></th>\n",
       "      <th></th>\n",
       "      <th></th>\n",
       "      <th></th>\n",
       "      <th></th>\n",
       "      <th></th>\n",
       "      <th></th>\n",
       "      <th></th>\n",
       "      <th></th>\n",
       "      <th></th>\n",
       "      <th></th>\n",
       "      <th></th>\n",
       "      <th></th>\n",
       "      <th></th>\n",
       "    </tr>\n",
       "  </thead>\n",
       "  <tbody>\n",
       "    <tr>\n",
       "      <th>420825</th>\n",
       "      <td>50578</td>\n",
       "      <td>58400</td>\n",
       "      <td>89.55</td>\n",
       "      <td>67</td>\n",
       "      <td>22807</td>\n",
       "      <td>45</td>\n",
       "      <td>1441</td>\n",
       "      <td>01-01-1984</td>\n",
       "      <td>Salaried</td>\n",
       "      <td>03-08-2018</td>\n",
       "      <td>...</td>\n",
       "      <td>0</td>\n",
       "      <td>0</td>\n",
       "      <td>0</td>\n",
       "      <td>0</td>\n",
       "      <td>0</td>\n",
       "      <td>0</td>\n",
       "      <td>0yrs 0mon</td>\n",
       "      <td>0yrs 0mon</td>\n",
       "      <td>0</td>\n",
       "      <td>0</td>\n",
       "    </tr>\n",
       "    <tr>\n",
       "      <th>537409</th>\n",
       "      <td>47145</td>\n",
       "      <td>65550</td>\n",
       "      <td>73.23</td>\n",
       "      <td>67</td>\n",
       "      <td>22807</td>\n",
       "      <td>45</td>\n",
       "      <td>1502</td>\n",
       "      <td>31-07-1985</td>\n",
       "      <td>Self employed</td>\n",
       "      <td>26-09-2018</td>\n",
       "      <td>...</td>\n",
       "      <td>0</td>\n",
       "      <td>0</td>\n",
       "      <td>1991</td>\n",
       "      <td>0</td>\n",
       "      <td>0</td>\n",
       "      <td>1</td>\n",
       "      <td>1yrs 11mon</td>\n",
       "      <td>1yrs 11mon</td>\n",
       "      <td>0</td>\n",
       "      <td>1</td>\n",
       "    </tr>\n",
       "    <tr>\n",
       "      <th>417566</th>\n",
       "      <td>53278</td>\n",
       "      <td>61360</td>\n",
       "      <td>89.63</td>\n",
       "      <td>67</td>\n",
       "      <td>22807</td>\n",
       "      <td>45</td>\n",
       "      <td>1497</td>\n",
       "      <td>24-08-1985</td>\n",
       "      <td>Self employed</td>\n",
       "      <td>01-08-2018</td>\n",
       "      <td>...</td>\n",
       "      <td>0</td>\n",
       "      <td>0</td>\n",
       "      <td>0</td>\n",
       "      <td>0</td>\n",
       "      <td>0</td>\n",
       "      <td>0</td>\n",
       "      <td>0yrs 0mon</td>\n",
       "      <td>0yrs 0mon</td>\n",
       "      <td>0</td>\n",
       "      <td>0</td>\n",
       "    </tr>\n",
       "    <tr>\n",
       "      <th>624493</th>\n",
       "      <td>57513</td>\n",
       "      <td>66113</td>\n",
       "      <td>88.48</td>\n",
       "      <td>67</td>\n",
       "      <td>22807</td>\n",
       "      <td>45</td>\n",
       "      <td>1501</td>\n",
       "      <td>30-12-1993</td>\n",
       "      <td>Self employed</td>\n",
       "      <td>26-10-2018</td>\n",
       "      <td>...</td>\n",
       "      <td>0</td>\n",
       "      <td>0</td>\n",
       "      <td>31</td>\n",
       "      <td>0</td>\n",
       "      <td>0</td>\n",
       "      <td>0</td>\n",
       "      <td>0yrs 8mon</td>\n",
       "      <td>1yrs 3mon</td>\n",
       "      <td>1</td>\n",
       "      <td>1</td>\n",
       "    </tr>\n",
       "    <tr>\n",
       "      <th>539055</th>\n",
       "      <td>52378</td>\n",
       "      <td>60300</td>\n",
       "      <td>88.39</td>\n",
       "      <td>67</td>\n",
       "      <td>22807</td>\n",
       "      <td>45</td>\n",
       "      <td>1495</td>\n",
       "      <td>09-12-1977</td>\n",
       "      <td>Self employed</td>\n",
       "      <td>26-09-2018</td>\n",
       "      <td>...</td>\n",
       "      <td>0</td>\n",
       "      <td>0</td>\n",
       "      <td>0</td>\n",
       "      <td>0</td>\n",
       "      <td>0</td>\n",
       "      <td>0</td>\n",
       "      <td>0yrs 0mon</td>\n",
       "      <td>0yrs 0mon</td>\n",
       "      <td>1</td>\n",
       "      <td>1</td>\n",
       "    </tr>\n",
       "  </tbody>\n",
       "</table>\n",
       "<p>5 rows × 40 columns</p>\n",
       "</div>"
      ],
      "text/plain": [
       "          DISBURSED_AMOUNT  ASSET_COST    LTV  BRANCH_ID  SUPPLIER_ID  \\\n",
       "UNIQUEID                                                                \n",
       "420825               50578       58400  89.55         67        22807   \n",
       "537409               47145       65550  73.23         67        22807   \n",
       "417566               53278       61360  89.63         67        22807   \n",
       "624493               57513       66113  88.48         67        22807   \n",
       "539055               52378       60300  88.39         67        22807   \n",
       "\n",
       "          MANUFACTURER_ID  CURRENT_PINCODE_ID DATE_OF_BIRTH EMPLOYMENT_TYPE  \\\n",
       "UNIQUEID                                                                      \n",
       "420825                 45                1441    01-01-1984        Salaried   \n",
       "537409                 45                1502    31-07-1985   Self employed   \n",
       "417566                 45                1497    24-08-1985   Self employed   \n",
       "624493                 45                1501    30-12-1993   Self employed   \n",
       "539055                 45                1495    09-12-1977   Self employed   \n",
       "\n",
       "         DISBURSAL_DATE  ...  SEC_SANCTIONED_AMOUNT  SEC_DISBURSED_AMOUNT  \\\n",
       "UNIQUEID                 ...                                                \n",
       "420825       03-08-2018  ...                      0                     0   \n",
       "537409       26-09-2018  ...                      0                     0   \n",
       "417566       01-08-2018  ...                      0                     0   \n",
       "624493       26-10-2018  ...                      0                     0   \n",
       "539055       26-09-2018  ...                      0                     0   \n",
       "\n",
       "          PRIMARY_INSTAL_AMT  SEC_INSTAL_AMT  NEW_ACCTS_IN_LAST_SIX_MONTHS  \\\n",
       "UNIQUEID                                                                     \n",
       "420825                     0               0                             0   \n",
       "537409                  1991               0                             0   \n",
       "417566                     0               0                             0   \n",
       "624493                    31               0                             0   \n",
       "539055                     0               0                             0   \n",
       "\n",
       "          DELINQUENT_ACCTS_IN_LAST_SIX_MONTHS  AVERAGE_ACCT_AGE  \\\n",
       "UNIQUEID                                                          \n",
       "420825                                      0         0yrs 0mon   \n",
       "537409                                      1        1yrs 11mon   \n",
       "417566                                      0         0yrs 0mon   \n",
       "624493                                      0         0yrs 8mon   \n",
       "539055                                      0         0yrs 0mon   \n",
       "\n",
       "          CREDIT_HISTORY_LENGTH  NO_OF_INQUIRIES LOAN_DEFAULT  \n",
       "UNIQUEID                                                       \n",
       "420825                0yrs 0mon                0            0  \n",
       "537409               1yrs 11mon                0            1  \n",
       "417566                0yrs 0mon                0            0  \n",
       "624493                1yrs 3mon                1            1  \n",
       "539055                0yrs 0mon                1            1  \n",
       "\n",
       "[5 rows x 40 columns]"
      ]
     },
     "execution_count": 3,
     "metadata": {},
     "output_type": "execute_result"
    }
   ],
   "source": [
    "#get loan_df head\n",
    "loan_df.head()"
   ]
  },
  {
   "cell_type": "markdown",
   "metadata": {},
   "source": [
    "## Lesson 2 - First Look\n",
    "\n",
    "Now that we have loaded the data, let's take a closer Look\n",
    "\n",
    "### Rows and Columns\n",
    "\n",
    "- How many data points do we have?\n",
    "- How many attributes are there?\n",
    "- We can get the dimensions of our DataFrame using [df.shape](https://pandas.pydata.org/pandas-docs/stable/reference/api/pandas.DataFrame.shape.html)"
   ]
  },
  {
   "cell_type": "code",
   "execution_count": 4,
   "metadata": {},
   "outputs": [
    {
     "data": {
      "text/plain": [
       "(233154, 40)"
      ]
     },
     "execution_count": 4,
     "metadata": {},
     "output_type": "execute_result"
    }
   ],
   "source": [
    "#Investigate shape\n",
    "loan_df.shape"
   ]
  },
  {
   "cell_type": "markdown",
   "metadata": {},
   "source": [
    "- The shape property of a dataframe contains a tuple with the dimensions of the dataframe\n",
    "- A tuple is an ordered immutable (unchangeable) collection \n",
    "- Tuple elements can be accessed using indexes, like lists"
   ]
  },
  {
   "cell_type": "code",
   "execution_count": 6,
   "metadata": {},
   "outputs": [
    {
     "name": "stdout",
     "output_type": "stream",
     "text": [
      "Number of rows:  233154\n",
      "Number of columns:  40\n"
     ]
    }
   ],
   "source": [
    "#print rows and cols\n",
    "print(\"Number of rows: \", loan_df.shape[0])\n",
    "print(\"Number of columns: \", loan_df.shape[1])"
   ]
  },
  {
   "cell_type": "markdown",
   "metadata": {},
   "source": [
    "Ok, so we have 233154 data points each with 40 variables\n"
   ]
  },
  {
   "cell_type": "markdown",
   "metadata": {},
   "source": [
    "### Variable Types\n",
    "\n",
    "- Before we go any further it is important to understand the type of data stored in our columns\n",
    "- Pandas [df.info()](https://pandas.pydata.org/pandas-docs/stable/reference/api/pandas.DataFrame.info.html) shows us both the data type and the not null count for each column\n"
   ]
  },
  {
   "cell_type": "code",
   "execution_count": 7,
   "metadata": {},
   "outputs": [
    {
     "name": "stdout",
     "output_type": "stream",
     "text": [
      "<class 'pandas.core.frame.DataFrame'>\n",
      "Int64Index: 233154 entries, 420825 to 630213\n",
      "Data columns (total 40 columns):\n",
      " #   Column                               Non-Null Count   Dtype  \n",
      "---  ------                               --------------   -----  \n",
      " 0   DISBURSED_AMOUNT                     233154 non-null  int64  \n",
      " 1   ASSET_COST                           233154 non-null  int64  \n",
      " 2   LTV                                  233154 non-null  float64\n",
      " 3   BRANCH_ID                            233154 non-null  int64  \n",
      " 4   SUPPLIER_ID                          233154 non-null  int64  \n",
      " 5   MANUFACTURER_ID                      233154 non-null  int64  \n",
      " 6   CURRENT_PINCODE_ID                   233154 non-null  int64  \n",
      " 7   DATE_OF_BIRTH                        233154 non-null  object \n",
      " 8   EMPLOYMENT_TYPE                      225493 non-null  object \n",
      " 9   DISBURSAL_DATE                       233154 non-null  object \n",
      " 10  STATE_ID                             233154 non-null  int64  \n",
      " 11  EMPLOYEE_CODE_ID                     233154 non-null  int64  \n",
      " 12  MOBILENO_AVL_FLAG                    233154 non-null  int64  \n",
      " 13  AADHAR_FLAG                          233154 non-null  int64  \n",
      " 14  PAN_FLAG                             233154 non-null  int64  \n",
      " 15  VOTERID_FLAG                         233154 non-null  int64  \n",
      " 16  DRIVING_FLAG                         233154 non-null  int64  \n",
      " 17  PASSPORT_FLAG                        233154 non-null  int64  \n",
      " 18  PERFORM_CNS_SCORE                    233154 non-null  int64  \n",
      " 19  PERFORM_CNS_SCORE_DESCRIPTION        233154 non-null  object \n",
      " 20  PRI_NO_OF_ACCTS                      233154 non-null  int64  \n",
      " 21  PRI_ACTIVE_ACCTS                     233154 non-null  int64  \n",
      " 22  PRI_OVERDUE_ACCTS                    233154 non-null  int64  \n",
      " 23  PRI_CURRENT_BALANCE                  233154 non-null  int64  \n",
      " 24  PRI_SANCTIONED_AMOUNT                233154 non-null  int64  \n",
      " 25  PRI_DISBURSED_AMOUNT                 233154 non-null  int64  \n",
      " 26  SEC_NO_OF_ACCTS                      233154 non-null  int64  \n",
      " 27  SEC_ACTIVE_ACCTS                     233154 non-null  int64  \n",
      " 28  SEC_OVERDUE_ACCTS                    233154 non-null  int64  \n",
      " 29  SEC_CURRENT_BALANCE                  233154 non-null  int64  \n",
      " 30  SEC_SANCTIONED_AMOUNT                233154 non-null  int64  \n",
      " 31  SEC_DISBURSED_AMOUNT                 233154 non-null  int64  \n",
      " 32  PRIMARY_INSTAL_AMT                   233154 non-null  int64  \n",
      " 33  SEC_INSTAL_AMT                       233154 non-null  int64  \n",
      " 34  NEW_ACCTS_IN_LAST_SIX_MONTHS         233154 non-null  int64  \n",
      " 35  DELINQUENT_ACCTS_IN_LAST_SIX_MONTHS  233154 non-null  int64  \n",
      " 36  AVERAGE_ACCT_AGE                     233154 non-null  object \n",
      " 37  CREDIT_HISTORY_LENGTH                233154 non-null  object \n",
      " 38  NO_OF_INQUIRIES                      233154 non-null  int64  \n",
      " 39  LOAN_DEFAULT                         233154 non-null  int64  \n",
      "dtypes: float64(1), int64(33), object(6)\n",
      "memory usage: 72.9+ MB\n"
     ]
    }
   ],
   "source": [
    "#Look at column types\n",
    "loan_df.info()"
   ]
  },
  {
   "cell_type": "markdown",
   "metadata": {},
   "source": [
    "Now we know we have 3 data types:\n",
    "- int64 (whole number)\n",
    "- float64 (floating point number)\n",
    "- object (string or non-numeric)\n",
    "\n",
    "Straight away there are some interesting things,\n",
    "\n",
    "DATE_OF_BIRTH, EMPLOYMENT_TYPE, DISBURSAL_DATE, PERFORM_CNS_SCORE_DESCRIPTION, AVERAGE_ACCT_AGE and CREDIT_HISTORY_LENGTH are all object data types, meaning they contain non-numeric values such as strings or dates. \n",
    "\n",
    "EMPLOYMENT_TYPE has some missing values\n"
   ]
  },
  {
   "cell_type": "markdown",
   "metadata": {},
   "source": [
    "### Date Range\n",
    "\n",
    "DISBURSAL_DATE contains the date the agreed loan amount was transferred to the applicant, let's use it to get an idea of the timeframe covered by the data \n",
    "\n",
    "The first step is to convert DISBURSAL_DATE to a datetime\n",
    "- We can use [pd.to_datetime](https://pandas.pydata.org/pandas-docs/stable/reference/api/pandas.to_datetime.html) to convert an entire column to datetime \n",
    "\n"
   ]
  },
  {
   "cell_type": "code",
   "execution_count": 9,
   "metadata": {},
   "outputs": [
    {
     "name": "stdout",
     "output_type": "stream",
     "text": [
      "<class 'pandas.core.frame.DataFrame'>\n",
      "Int64Index: 233154 entries, 420825 to 630213\n",
      "Data columns (total 40 columns):\n",
      " #   Column                               Non-Null Count   Dtype         \n",
      "---  ------                               --------------   -----         \n",
      " 0   DISBURSED_AMOUNT                     233154 non-null  int64         \n",
      " 1   ASSET_COST                           233154 non-null  int64         \n",
      " 2   LTV                                  233154 non-null  float64       \n",
      " 3   BRANCH_ID                            233154 non-null  int64         \n",
      " 4   SUPPLIER_ID                          233154 non-null  int64         \n",
      " 5   MANUFACTURER_ID                      233154 non-null  int64         \n",
      " 6   CURRENT_PINCODE_ID                   233154 non-null  int64         \n",
      " 7   DATE_OF_BIRTH                        233154 non-null  object        \n",
      " 8   EMPLOYMENT_TYPE                      225493 non-null  object        \n",
      " 9   DISBURSAL_DATE                       233154 non-null  datetime64[ns]\n",
      " 10  STATE_ID                             233154 non-null  int64         \n",
      " 11  EMPLOYEE_CODE_ID                     233154 non-null  int64         \n",
      " 12  MOBILENO_AVL_FLAG                    233154 non-null  int64         \n",
      " 13  AADHAR_FLAG                          233154 non-null  int64         \n",
      " 14  PAN_FLAG                             233154 non-null  int64         \n",
      " 15  VOTERID_FLAG                         233154 non-null  int64         \n",
      " 16  DRIVING_FLAG                         233154 non-null  int64         \n",
      " 17  PASSPORT_FLAG                        233154 non-null  int64         \n",
      " 18  PERFORM_CNS_SCORE                    233154 non-null  int64         \n",
      " 19  PERFORM_CNS_SCORE_DESCRIPTION        233154 non-null  object        \n",
      " 20  PRI_NO_OF_ACCTS                      233154 non-null  int64         \n",
      " 21  PRI_ACTIVE_ACCTS                     233154 non-null  int64         \n",
      " 22  PRI_OVERDUE_ACCTS                    233154 non-null  int64         \n",
      " 23  PRI_CURRENT_BALANCE                  233154 non-null  int64         \n",
      " 24  PRI_SANCTIONED_AMOUNT                233154 non-null  int64         \n",
      " 25  PRI_DISBURSED_AMOUNT                 233154 non-null  int64         \n",
      " 26  SEC_NO_OF_ACCTS                      233154 non-null  int64         \n",
      " 27  SEC_ACTIVE_ACCTS                     233154 non-null  int64         \n",
      " 28  SEC_OVERDUE_ACCTS                    233154 non-null  int64         \n",
      " 29  SEC_CURRENT_BALANCE                  233154 non-null  int64         \n",
      " 30  SEC_SANCTIONED_AMOUNT                233154 non-null  int64         \n",
      " 31  SEC_DISBURSED_AMOUNT                 233154 non-null  int64         \n",
      " 32  PRIMARY_INSTAL_AMT                   233154 non-null  int64         \n",
      " 33  SEC_INSTAL_AMT                       233154 non-null  int64         \n",
      " 34  NEW_ACCTS_IN_LAST_SIX_MONTHS         233154 non-null  int64         \n",
      " 35  DELINQUENT_ACCTS_IN_LAST_SIX_MONTHS  233154 non-null  int64         \n",
      " 36  AVERAGE_ACCT_AGE                     233154 non-null  object        \n",
      " 37  CREDIT_HISTORY_LENGTH                233154 non-null  object        \n",
      " 38  NO_OF_INQUIRIES                      233154 non-null  int64         \n",
      " 39  LOAN_DEFAULT                         233154 non-null  int64         \n",
      "dtypes: datetime64[ns](1), float64(1), int64(33), object(5)\n",
      "memory usage: 72.9+ MB\n"
     ]
    }
   ],
   "source": [
    "#covert disbursal date\n",
    "loan_df['DISBURSAL_DATE'] = pd.to_datetime(loan_df['DISBURSAL_DATE'])\n",
    "loan_df.info()"
   ]
  },
  {
   "cell_type": "markdown",
   "metadata": {},
   "source": [
    "Now we can use [min](https://pandas.pydata.org/pandas-docs/stable/reference/api/pandas.Series.min.html) and [max] to look for the first and last loan disbursals in our data"
   ]
  },
  {
   "cell_type": "code",
   "execution_count": 10,
   "metadata": {},
   "outputs": [
    {
     "name": "stdout",
     "output_type": "stream",
     "text": [
      "Maximum Disbursal Date:  2018-12-10 00:00:00\n",
      "Minimum Disbursal Date:  2018-01-08 00:00:00\n"
     ]
    }
   ],
   "source": [
    "#get minimum and maximum date\n",
    "print(\"Maximum Disbursal Date: \", loan_df['DISBURSAL_DATE'].max())\n",
    "print(\"Minimum Disbursal Date: \", loan_df['DISBURSAL_DATE'].min())"
   ]
  },
  {
   "cell_type": "markdown",
   "metadata": {},
   "source": [
    "We can do mathematical operations on datetimes to get the difference in days"
   ]
  },
  {
   "cell_type": "code",
   "execution_count": 14,
   "metadata": {},
   "outputs": [
    {
     "name": "stdout",
     "output_type": "stream",
     "text": [
      "Timespan of dataset:  336 days 00:00:00\n"
     ]
    }
   ],
   "source": [
    "#print timespan\n",
    "print(\"Timespan of dataset: \", loan_df['DISBURSAL_DATE'].max() - loan_df['DISBURSAL_DATE'].min())"
   ]
  },
  {
   "cell_type": "markdown",
   "metadata": {},
   "source": [
    "### Now we know\n",
    "\n",
    "- Our dataset has information for 233154 loans \n",
    "- There are 40 variables \n",
    "- The data covers loans over 336 days between January and December 2018\n",
    "\n",
    "More detailed exploratory analysis will be covered in the next chapter\n",
    "\n",
    "For now, let's move on to look at what we are actually trying to predict"
   ]
  },
  {
   "cell_type": "markdown",
   "metadata": {},
   "source": [
    "## Lesson 3 - Target Variable\n",
    "\n",
    "### What is the target variable?\n",
    "\n",
    "- Variable we are trying to predict\n",
    "- LOAN_DEFAULT is our target variable so lets investigate it further\n",
    "\n",
    "\n",
    "### Explore the Target Variable\n",
    "- How many people defaulted on their loans?\n",
    "- To count the frequency of unique values in a dataframe column we can use [value_counts](https://pandas.pydata.org/pandas-docs/stable/reference/api/pandas.Series.value_counts.html)"
   ]
  },
  {
   "cell_type": "code",
   "execution_count": 15,
   "metadata": {},
   "outputs": [
    {
     "data": {
      "text/plain": [
       "0    182543\n",
       "1     50611\n",
       "Name: LOAN_DEFAULT, dtype: int64"
      ]
     },
     "execution_count": 15,
     "metadata": {},
     "output_type": "execute_result"
    }
   ],
   "source": [
    "#look at LOAN_DEFAULT\n",
    "loan_df['LOAN_DEFAULT'].value_counts()"
   ]
  },
  {
   "cell_type": "markdown",
   "metadata": {},
   "source": [
    "Great! We can see that out of our 233154 loans, there are 50611 which defaulted\n",
    "\n",
    "The 'normalize' parameter lets us use value_counts to get a percentage"
   ]
  },
  {
   "cell_type": "code",
   "execution_count": 16,
   "metadata": {},
   "outputs": [
    {
     "data": {
      "text/plain": [
       "0    0.782929\n",
       "1    0.217071\n",
       "Name: LOAN_DEFAULT, dtype: float64"
      ]
     },
     "execution_count": 16,
     "metadata": {},
     "output_type": "execute_result"
    }
   ],
   "source": [
    "#look at LOAN_DEFAULT normalized\n",
    "loan_df['LOAN_DEFAULT'].value_counts(normalize=True)"
   ]
  },
  {
   "cell_type": "markdown",
   "metadata": {},
   "source": [
    "The rate of defaulted loans is about 21.7% keep this in mind!"
   ]
  },
  {
   "cell_type": "markdown",
   "metadata": {},
   "source": [
    "### Visualize the Target Variable\n",
    "\n",
    "Just for good measure lets visualize our target variable using the [countplot](https://seaborn.pydata.org/generated/seaborn.countplot.html) function from seaborn"
   ]
  },
  {
   "cell_type": "code",
   "execution_count": 18,
   "metadata": {},
   "outputs": [
    {
     "data": {
      "image/png": "[encoded data removed]",
      "text/plain": [
       "<Figure size 432x288 with 1 Axes>"
      ]
     },
     "metadata": {
      "needs_background": "light"
     },
     "output_type": "display_data"
    }
   ],
   "source": [
    "#plot loan default\n",
    "sns.countplot(x = \"LOAN_DEFAULT\", data = loan_df)\n",
    "plt.show()"
   ]
  },
  {
   "cell_type": "markdown",
   "metadata": {},
   "source": [
    "## Lesson 4 - Missing Values\n",
    "\n",
    "We saw earlier that our dataset contains some missing values, specifically for the EMPLOYMENT_TYPE column.\n",
    "\n",
    "### Identifying Missing Data\n",
    "\n",
    "Time to investigate what we saw earlier by identifying the columns with missing values\n",
    "\n",
    "Using [df.isnull](https://pandas.pydata.org/pandas-docs/stable/reference/api/pandas.isnull.html) we can find those columns which have at least one null value\n"
   ]
  },
  {
   "cell_type": "code",
   "execution_count": 19,
   "metadata": {},
   "outputs": [
    {
     "data": {
      "text/html": [
       "<div>\n",
       "<style scoped>\n",
       "    .dataframe tbody tr th:only-of-type {\n",
       "        vertical-align: middle;\n",
       "    }\n",
       "\n",
       "    .dataframe tbody tr th {\n",
       "        vertical-align: top;\n",
       "    }\n",
       "\n",
       "    .dataframe thead th {\n",
       "        text-align: right;\n",
       "    }\n",
       "</style>\n",
       "<table border=\"1\" class=\"dataframe\">\n",
       "  <thead>\n",
       "    <tr style=\"text-align: right;\">\n",
       "      <th></th>\n",
       "      <th>DISBURSED_AMOUNT</th>\n",
       "      <th>ASSET_COST</th>\n",
       "      <th>LTV</th>\n",
       "      <th>BRANCH_ID</th>\n",
       "      <th>SUPPLIER_ID</th>\n",
       "      <th>MANUFACTURER_ID</th>\n",
       "      <th>CURRENT_PINCODE_ID</th>\n",
       "      <th>DATE_OF_BIRTH</th>\n",
       "      <th>EMPLOYMENT_TYPE</th>\n",
       "      <th>DISBURSAL_DATE</th>\n",
       "      <th>...</th>\n",
       "      <th>SEC_SANCTIONED_AMOUNT</th>\n",
       "      <th>SEC_DISBURSED_AMOUNT</th>\n",
       "      <th>PRIMARY_INSTAL_AMT</th>\n",
       "      <th>SEC_INSTAL_AMT</th>\n",
       "      <th>NEW_ACCTS_IN_LAST_SIX_MONTHS</th>\n",
       "      <th>DELINQUENT_ACCTS_IN_LAST_SIX_MONTHS</th>\n",
       "      <th>AVERAGE_ACCT_AGE</th>\n",
       "      <th>CREDIT_HISTORY_LENGTH</th>\n",
       "      <th>NO_OF_INQUIRIES</th>\n",
       "      <th>LOAN_DEFAULT</th>\n",
       "    </tr>\n",
       "    <tr>\n",
       "      <th>UNIQUEID</th>\n",
       "      <th></th>\n",
       "      <th></th>\n",
       "      <th></th>\n",
       "      <th></th>\n",
       "      <th></th>\n",
       "      <th></th>\n",
       "      <th></th>\n",
       "      <th></th>\n",
       "      <th></th>\n",
       "      <th></th>\n",
       "      <th></th>\n",
       "      <th></th>\n",
       "      <th></th>\n",
       "      <th></th>\n",
       "      <th></th>\n",
       "      <th></th>\n",
       "      <th></th>\n",
       "      <th></th>\n",
       "      <th></th>\n",
       "      <th></th>\n",
       "      <th></th>\n",
       "    </tr>\n",
       "  </thead>\n",
       "  <tbody>\n",
       "    <tr>\n",
       "      <th>420825</th>\n",
       "      <td>False</td>\n",
       "      <td>False</td>\n",
       "      <td>False</td>\n",
       "      <td>False</td>\n",
       "      <td>False</td>\n",
       "      <td>False</td>\n",
       "      <td>False</td>\n",
       "      <td>False</td>\n",
       "      <td>False</td>\n",
       "      <td>False</td>\n",
       "      <td>...</td>\n",
       "      <td>False</td>\n",
       "      <td>False</td>\n",
       "      <td>False</td>\n",
       "      <td>False</td>\n",
       "      <td>False</td>\n",
       "      <td>False</td>\n",
       "      <td>False</td>\n",
       "      <td>False</td>\n",
       "      <td>False</td>\n",
       "      <td>False</td>\n",
       "    </tr>\n",
       "    <tr>\n",
       "      <th>537409</th>\n",
       "      <td>False</td>\n",
       "      <td>False</td>\n",
       "      <td>False</td>\n",
       "      <td>False</td>\n",
       "      <td>False</td>\n",
       "      <td>False</td>\n",
       "      <td>False</td>\n",
       "      <td>False</td>\n",
       "      <td>False</td>\n",
       "      <td>False</td>\n",
       "      <td>...</td>\n",
       "      <td>False</td>\n",
       "      <td>False</td>\n",
       "      <td>False</td>\n",
       "      <td>False</td>\n",
       "      <td>False</td>\n",
       "      <td>False</td>\n",
       "      <td>False</td>\n",
       "      <td>False</td>\n",
       "      <td>False</td>\n",
       "      <td>False</td>\n",
       "    </tr>\n",
       "    <tr>\n",
       "      <th>417566</th>\n",
       "      <td>False</td>\n",
       "      <td>False</td>\n",
       "      <td>False</td>\n",
       "      <td>False</td>\n",
       "      <td>False</td>\n",
       "      <td>False</td>\n",
       "      <td>False</td>\n",
       "      <td>False</td>\n",
       "      <td>False</td>\n",
       "      <td>False</td>\n",
       "      <td>...</td>\n",
       "      <td>False</td>\n",
       "      <td>False</td>\n",
       "      <td>False</td>\n",
       "      <td>False</td>\n",
       "      <td>False</td>\n",
       "      <td>False</td>\n",
       "      <td>False</td>\n",
       "      <td>False</td>\n",
       "      <td>False</td>\n",
       "      <td>False</td>\n",
       "    </tr>\n",
       "    <tr>\n",
       "      <th>624493</th>\n",
       "      <td>False</td>\n",
       "      <td>False</td>\n",
       "      <td>False</td>\n",
       "      <td>False</td>\n",
       "      <td>False</td>\n",
       "      <td>False</td>\n",
       "      <td>False</td>\n",
       "      <td>False</td>\n",
       "      <td>False</td>\n",
       "      <td>False</td>\n",
       "      <td>...</td>\n",
       "      <td>False</td>\n",
       "      <td>False</td>\n",
       "      <td>False</td>\n",
       "      <td>False</td>\n",
       "      <td>False</td>\n",
       "      <td>False</td>\n",
       "      <td>False</td>\n",
       "      <td>False</td>\n",
       "      <td>False</td>\n",
       "      <td>False</td>\n",
       "    </tr>\n",
       "    <tr>\n",
       "      <th>539055</th>\n",
       "      <td>False</td>\n",
       "      <td>False</td>\n",
       "      <td>False</td>\n",
       "      <td>False</td>\n",
       "      <td>False</td>\n",
       "      <td>False</td>\n",
       "      <td>False</td>\n",
       "      <td>False</td>\n",
       "      <td>False</td>\n",
       "      <td>False</td>\n",
       "      <td>...</td>\n",
       "      <td>False</td>\n",
       "      <td>False</td>\n",
       "      <td>False</td>\n",
       "      <td>False</td>\n",
       "      <td>False</td>\n",
       "      <td>False</td>\n",
       "      <td>False</td>\n",
       "      <td>False</td>\n",
       "      <td>False</td>\n",
       "      <td>False</td>\n",
       "    </tr>\n",
       "    <tr>\n",
       "      <th>...</th>\n",
       "      <td>...</td>\n",
       "      <td>...</td>\n",
       "      <td>...</td>\n",
       "      <td>...</td>\n",
       "      <td>...</td>\n",
       "      <td>...</td>\n",
       "      <td>...</td>\n",
       "      <td>...</td>\n",
       "      <td>...</td>\n",
       "      <td>...</td>\n",
       "      <td>...</td>\n",
       "      <td>...</td>\n",
       "      <td>...</td>\n",
       "      <td>...</td>\n",
       "      <td>...</td>\n",
       "      <td>...</td>\n",
       "      <td>...</td>\n",
       "      <td>...</td>\n",
       "      <td>...</td>\n",
       "      <td>...</td>\n",
       "      <td>...</td>\n",
       "    </tr>\n",
       "    <tr>\n",
       "      <th>626432</th>\n",
       "      <td>False</td>\n",
       "      <td>False</td>\n",
       "      <td>False</td>\n",
       "      <td>False</td>\n",
       "      <td>False</td>\n",
       "      <td>False</td>\n",
       "      <td>False</td>\n",
       "      <td>False</td>\n",
       "      <td>False</td>\n",
       "      <td>False</td>\n",
       "      <td>...</td>\n",
       "      <td>False</td>\n",
       "      <td>False</td>\n",
       "      <td>False</td>\n",
       "      <td>False</td>\n",
       "      <td>False</td>\n",
       "      <td>False</td>\n",
       "      <td>False</td>\n",
       "      <td>False</td>\n",
       "      <td>False</td>\n",
       "      <td>False</td>\n",
       "    </tr>\n",
       "    <tr>\n",
       "      <th>606141</th>\n",
       "      <td>False</td>\n",
       "      <td>False</td>\n",
       "      <td>False</td>\n",
       "      <td>False</td>\n",
       "      <td>False</td>\n",
       "      <td>False</td>\n",
       "      <td>False</td>\n",
       "      <td>False</td>\n",
       "      <td>False</td>\n",
       "      <td>False</td>\n",
       "      <td>...</td>\n",
       "      <td>False</td>\n",
       "      <td>False</td>\n",
       "      <td>False</td>\n",
       "      <td>False</td>\n",
       "      <td>False</td>\n",
       "      <td>False</td>\n",
       "      <td>False</td>\n",
       "      <td>False</td>\n",
       "      <td>False</td>\n",
       "      <td>False</td>\n",
       "    </tr>\n",
       "    <tr>\n",
       "      <th>613658</th>\n",
       "      <td>False</td>\n",
       "      <td>False</td>\n",
       "      <td>False</td>\n",
       "      <td>False</td>\n",
       "      <td>False</td>\n",
       "      <td>False</td>\n",
       "      <td>False</td>\n",
       "      <td>False</td>\n",
       "      <td>False</td>\n",
       "      <td>False</td>\n",
       "      <td>...</td>\n",
       "      <td>False</td>\n",
       "      <td>False</td>\n",
       "      <td>False</td>\n",
       "      <td>False</td>\n",
       "      <td>False</td>\n",
       "      <td>False</td>\n",
       "      <td>False</td>\n",
       "      <td>False</td>\n",
       "      <td>False</td>\n",
       "      <td>False</td>\n",
       "    </tr>\n",
       "    <tr>\n",
       "      <th>548084</th>\n",
       "      <td>False</td>\n",
       "      <td>False</td>\n",
       "      <td>False</td>\n",
       "      <td>False</td>\n",
       "      <td>False</td>\n",
       "      <td>False</td>\n",
       "      <td>False</td>\n",
       "      <td>False</td>\n",
       "      <td>False</td>\n",
       "      <td>False</td>\n",
       "      <td>...</td>\n",
       "      <td>False</td>\n",
       "      <td>False</td>\n",
       "      <td>False</td>\n",
       "      <td>False</td>\n",
       "      <td>False</td>\n",
       "      <td>False</td>\n",
       "      <td>False</td>\n",
       "      <td>False</td>\n",
       "      <td>False</td>\n",
       "      <td>False</td>\n",
       "    </tr>\n",
       "    <tr>\n",
       "      <th>630213</th>\n",
       "      <td>False</td>\n",
       "      <td>False</td>\n",
       "      <td>False</td>\n",
       "      <td>False</td>\n",
       "      <td>False</td>\n",
       "      <td>False</td>\n",
       "      <td>False</td>\n",
       "      <td>False</td>\n",
       "      <td>False</td>\n",
       "      <td>False</td>\n",
       "      <td>...</td>\n",
       "      <td>False</td>\n",
       "      <td>False</td>\n",
       "      <td>False</td>\n",
       "      <td>False</td>\n",
       "      <td>False</td>\n",
       "      <td>False</td>\n",
       "      <td>False</td>\n",
       "      <td>False</td>\n",
       "      <td>False</td>\n",
       "      <td>False</td>\n",
       "    </tr>\n",
       "  </tbody>\n",
       "</table>\n",
       "<p>233154 rows × 40 columns</p>\n",
       "</div>"
      ],
      "text/plain": [
       "          DISBURSED_AMOUNT  ASSET_COST    LTV  BRANCH_ID  SUPPLIER_ID  \\\n",
       "UNIQUEID                                                                \n",
       "420825               False       False  False      False        False   \n",
       "537409               False       False  False      False        False   \n",
       "417566               False       False  False      False        False   \n",
       "624493               False       False  False      False        False   \n",
       "539055               False       False  False      False        False   \n",
       "...                    ...         ...    ...        ...          ...   \n",
       "626432               False       False  False      False        False   \n",
       "606141               False       False  False      False        False   \n",
       "613658               False       False  False      False        False   \n",
       "548084               False       False  False      False        False   \n",
       "630213               False       False  False      False        False   \n",
       "\n",
       "          MANUFACTURER_ID  CURRENT_PINCODE_ID  DATE_OF_BIRTH  EMPLOYMENT_TYPE  \\\n",
       "UNIQUEID                                                                        \n",
       "420825              False               False          False            False   \n",
       "537409              False               False          False            False   \n",
       "417566              False               False          False            False   \n",
       "624493              False               False          False            False   \n",
       "539055              False               False          False            False   \n",
       "...                   ...                 ...            ...              ...   \n",
       "626432              False               False          False            False   \n",
       "606141              False               False          False            False   \n",
       "613658              False               False          False            False   \n",
       "548084              False               False          False            False   \n",
       "630213              False               False          False            False   \n",
       "\n",
       "          DISBURSAL_DATE  ...  SEC_SANCTIONED_AMOUNT  SEC_DISBURSED_AMOUNT  \\\n",
       "UNIQUEID                  ...                                                \n",
       "420825             False  ...                  False                 False   \n",
       "537409             False  ...                  False                 False   \n",
       "417566             False  ...                  False                 False   \n",
       "624493             False  ...                  False                 False   \n",
       "539055             False  ...                  False                 False   \n",
       "...                  ...  ...                    ...                   ...   \n",
       "626432             False  ...                  False                 False   \n",
       "606141             False  ...                  False                 False   \n",
       "613658             False  ...                  False                 False   \n",
       "548084             False  ...                  False                 False   \n",
       "630213             False  ...                  False                 False   \n",
       "\n",
       "          PRIMARY_INSTAL_AMT  SEC_INSTAL_AMT  NEW_ACCTS_IN_LAST_SIX_MONTHS  \\\n",
       "UNIQUEID                                                                     \n",
       "420825                 False           False                         False   \n",
       "537409                 False           False                         False   \n",
       "417566                 False           False                         False   \n",
       "624493                 False           False                         False   \n",
       "539055                 False           False                         False   \n",
       "...                      ...             ...                           ...   \n",
       "626432                 False           False                         False   \n",
       "606141                 False           False                         False   \n",
       "613658                 False           False                         False   \n",
       "548084                 False           False                         False   \n",
       "630213                 False           False                         False   \n",
       "\n",
       "          DELINQUENT_ACCTS_IN_LAST_SIX_MONTHS  AVERAGE_ACCT_AGE  \\\n",
       "UNIQUEID                                                          \n",
       "420825                                  False             False   \n",
       "537409                                  False             False   \n",
       "417566                                  False             False   \n",
       "624493                                  False             False   \n",
       "539055                                  False             False   \n",
       "...                                       ...               ...   \n",
       "626432                                  False             False   \n",
       "606141                                  False             False   \n",
       "613658                                  False             False   \n",
       "548084                                  False             False   \n",
       "630213                                  False             False   \n",
       "\n",
       "          CREDIT_HISTORY_LENGTH  NO_OF_INQUIRIES  LOAN_DEFAULT  \n",
       "UNIQUEID                                                        \n",
       "420825                    False            False         False  \n",
       "537409                    False            False         False  \n",
       "417566                    False            False         False  \n",
       "624493                    False            False         False  \n",
       "539055                    False            False         False  \n",
       "...                         ...              ...           ...  \n",
       "626432                    False            False         False  \n",
       "606141                    False            False         False  \n",
       "613658                    False            False         False  \n",
       "548084                    False            False         False  \n",
       "630213                    False            False         False  \n",
       "\n",
       "[233154 rows x 40 columns]"
      ]
     },
     "execution_count": 19,
     "metadata": {},
     "output_type": "execute_result"
    }
   ],
   "source": [
    "#get cells with missing values\n",
    "loan_df.isnull()"
   ]
  },
  {
   "cell_type": "markdown",
   "metadata": {},
   "source": [
    "[df.isnull](https://pandas.pydata.org/pandas-docs/stable/reference/api/pandas.isnull.html) outputs a DataFrame with a boolean value in each cell indicating the presence of a null value\n",
    "\n",
    "We can combine [df.isnull](https://pandas.pydata.org/pandas-docs/stable/reference/api/pandas.isnull.html) with [df.any](https://pandas.pydata.org/pandas-docs/stable/reference/api/pandas.DataFrame.any.html) to get a list of all columns with at least one missing value"
   ]
  },
  {
   "cell_type": "code",
   "execution_count": 20,
   "metadata": {},
   "outputs": [
    {
     "data": {
      "text/plain": [
       "DISBURSED_AMOUNT                       False\n",
       "ASSET_COST                             False\n",
       "LTV                                    False\n",
       "BRANCH_ID                              False\n",
       "SUPPLIER_ID                            False\n",
       "MANUFACTURER_ID                        False\n",
       "CURRENT_PINCODE_ID                     False\n",
       "DATE_OF_BIRTH                          False\n",
       "EMPLOYMENT_TYPE                         True\n",
       "DISBURSAL_DATE                         False\n",
       "STATE_ID                               False\n",
       "EMPLOYEE_CODE_ID                       False\n",
       "MOBILENO_AVL_FLAG                      False\n",
       "AADHAR_FLAG                            False\n",
       "PAN_FLAG                               False\n",
       "VOTERID_FLAG                           False\n",
       "DRIVING_FLAG                           False\n",
       "PASSPORT_FLAG                          False\n",
       "PERFORM_CNS_SCORE                      False\n",
       "PERFORM_CNS_SCORE_DESCRIPTION          False\n",
       "PRI_NO_OF_ACCTS                        False\n",
       "PRI_ACTIVE_ACCTS                       False\n",
       "PRI_OVERDUE_ACCTS                      False\n",
       "PRI_CURRENT_BALANCE                    False\n",
       "PRI_SANCTIONED_AMOUNT                  False\n",
       "PRI_DISBURSED_AMOUNT                   False\n",
       "SEC_NO_OF_ACCTS                        False\n",
       "SEC_ACTIVE_ACCTS                       False\n",
       "SEC_OVERDUE_ACCTS                      False\n",
       "SEC_CURRENT_BALANCE                    False\n",
       "SEC_SANCTIONED_AMOUNT                  False\n",
       "SEC_DISBURSED_AMOUNT                   False\n",
       "PRIMARY_INSTAL_AMT                     False\n",
       "SEC_INSTAL_AMT                         False\n",
       "NEW_ACCTS_IN_LAST_SIX_MONTHS           False\n",
       "DELINQUENT_ACCTS_IN_LAST_SIX_MONTHS    False\n",
       "AVERAGE_ACCT_AGE                       False\n",
       "CREDIT_HISTORY_LENGTH                  False\n",
       "NO_OF_INQUIRIES                        False\n",
       "LOAN_DEFAULT                           False\n",
       "dtype: bool"
      ]
     },
     "execution_count": 20,
     "metadata": {},
     "output_type": "execute_result"
    }
   ],
   "source": [
    "#get columns with missing values\n",
    "loan_df.isnull().any()"
   ]
  },
  {
   "cell_type": "markdown",
   "metadata": {},
   "source": [
    "As expected, the only column with any null values is EMPLOYMENT_TYPE\n",
    "\n",
    "Combine [df.isnull](https://pandas.pydata.org/pandas-docs/stable/reference/api/pandas.isnull.html) with [df.sum](https://pandas.pydata.org/pandas-docs/stable/reference/api/pandas.DataFrame.sum.html) to get a count of missing values for all columns"
   ]
  },
  {
   "cell_type": "code",
   "execution_count": 21,
   "metadata": {},
   "outputs": [
    {
     "data": {
      "text/plain": [
       "DISBURSED_AMOUNT                          0\n",
       "ASSET_COST                                0\n",
       "LTV                                       0\n",
       "BRANCH_ID                                 0\n",
       "SUPPLIER_ID                               0\n",
       "MANUFACTURER_ID                           0\n",
       "CURRENT_PINCODE_ID                        0\n",
       "DATE_OF_BIRTH                             0\n",
       "EMPLOYMENT_TYPE                        7661\n",
       "DISBURSAL_DATE                            0\n",
       "STATE_ID                                  0\n",
       "EMPLOYEE_CODE_ID                          0\n",
       "MOBILENO_AVL_FLAG                         0\n",
       "AADHAR_FLAG                               0\n",
       "PAN_FLAG                                  0\n",
       "VOTERID_FLAG                              0\n",
       "DRIVING_FLAG                              0\n",
       "PASSPORT_FLAG                             0\n",
       "PERFORM_CNS_SCORE                         0\n",
       "PERFORM_CNS_SCORE_DESCRIPTION             0\n",
       "PRI_NO_OF_ACCTS                           0\n",
       "PRI_ACTIVE_ACCTS                          0\n",
       "PRI_OVERDUE_ACCTS                         0\n",
       "PRI_CURRENT_BALANCE                       0\n",
       "PRI_SANCTIONED_AMOUNT                     0\n",
       "PRI_DISBURSED_AMOUNT                      0\n",
       "SEC_NO_OF_ACCTS                           0\n",
       "SEC_ACTIVE_ACCTS                          0\n",
       "SEC_OVERDUE_ACCTS                         0\n",
       "SEC_CURRENT_BALANCE                       0\n",
       "SEC_SANCTIONED_AMOUNT                     0\n",
       "SEC_DISBURSED_AMOUNT                      0\n",
       "PRIMARY_INSTAL_AMT                        0\n",
       "SEC_INSTAL_AMT                            0\n",
       "NEW_ACCTS_IN_LAST_SIX_MONTHS              0\n",
       "DELINQUENT_ACCTS_IN_LAST_SIX_MONTHS       0\n",
       "AVERAGE_ACCT_AGE                          0\n",
       "CREDIT_HISTORY_LENGTH                     0\n",
       "NO_OF_INQUIRIES                           0\n",
       "LOAN_DEFAULT                              0\n",
       "dtype: int64"
      ]
     },
     "execution_count": 21,
     "metadata": {},
     "output_type": "execute_result"
    }
   ],
   "source": [
    "#get missing value count per column\n",
    "loan_df.isnull().sum()"
   ]
  },
  {
   "cell_type": "markdown",
   "metadata": {},
   "source": [
    "### Handling Missing Values\n",
    "\n",
    "Ok, we can see that EMPLOYMENT_TYPE has 7661 missing values so we should take a closer look,"
   ]
  },
  {
   "cell_type": "markdown",
   "metadata": {},
   "source": [
    "### EXERCISE - Explore EMPLOYMENT_TYPE\n",
    "\n",
    "- Find out how many unique values are in the column\n",
    "- Hint: Remember how we used [value_counts](https://pandas.pydata.org/pandas-docs/stable/reference/api/pandas.Series.value_counts.html) and [catplot](https://seaborn.pydata.org/generated/seaborn.catplot.html) to explore the target variable"
   ]
  },
  {
   "cell_type": "markdown",
   "metadata": {},
   "source": [
    "### SOLUTION"
   ]
  },
  {
   "cell_type": "code",
   "execution_count": 24,
   "metadata": {},
   "outputs": [
    {
     "name": "stdout",
     "output_type": "stream",
     "text": [
      "Self employed    127635\n",
      "Salaried          97858\n",
      "Name: EMPLOYMENT_TYPE, dtype: int64\n"
     ]
    },
    {
     "data": {
      "image/png": "[encoded data removed]",
      "text/plain": [
       "<Figure size 432x288 with 1 Axes>"
      ]
     },
     "metadata": {
      "needs_background": "light"
     },
     "output_type": "display_data"
    }
   ],
   "source": [
    "#Type solution here\n",
    "print(loan_df['EMPLOYMENT_TYPE'].value_counts())\n",
    "sns.countplot(x='EMPLOYMENT_TYPE', data = loan_df)\n",
    "plt.show()"
   ]
  },
  {
   "cell_type": "markdown",
   "metadata": {},
   "source": [
    "### Handling Missing Values - Continued\n",
    "\n",
    "Note that EMPLOYMENT_TYPE contains two unique values, 'Salaried' and 'Self Employed'\n",
    "\n",
    "Since there are relatively few missing values (7661) we can populate them with a placeholder 'Missing' using pandas [fillna](https://pandas.pydata.org/pandas-docs/stable/reference/api/pandas.DataFrame.fillna.html)"
   ]
  },
  {
   "cell_type": "code",
   "execution_count": 25,
   "metadata": {},
   "outputs": [],
   "source": [
    "#Fill missing values\n",
    "loan_df = loan_df.fillna(value = {'EMPLOYMENT_TYPE' : 'Missing'})"
   ]
  },
  {
   "cell_type": "code",
   "execution_count": 26,
   "metadata": {},
   "outputs": [
    {
     "name": "stdout",
     "output_type": "stream",
     "text": [
      "Self employed    127635\n",
      "Salaried          97858\n",
      "Missing            7661\n",
      "Name: EMPLOYMENT_TYPE, dtype: int64\n"
     ]
    },
    {
     "data": {
      "image/png": "[encoded data removed]",
      "text/plain": [
       "<Figure size 432x288 with 1 Axes>"
      ]
     },
     "metadata": {
      "needs_background": "light"
     },
     "output_type": "display_data"
    }
   ],
   "source": [
    "#Plot employment type\n",
    "print(loan_df['EMPLOYMENT_TYPE'].value_counts())\n",
    "sns.countplot(x='EMPLOYMENT_TYPE', data = loan_df)\n",
    "plt.show()"
   ]
  },
  {
   "cell_type": "markdown",
   "metadata": {},
   "source": [
    "We can see that the 7661 missing values for employment type have been labelled with the string 'Missing'"
   ]
  },
  {
   "cell_type": "markdown",
   "metadata": {},
   "source": [
    "## Lesson 5 - Dealing with Dates\n",
    "\n",
    "- We have two date columns, DISBURSAL_DATE and DATE_OF_BIRTH\n",
    "- These should be transformed into a more algorithm friendly format"
   ]
  },
  {
   "cell_type": "code",
   "execution_count": 27,
   "metadata": {},
   "outputs": [
    {
     "data": {
      "text/html": [
       "<div>\n",
       "<style scoped>\n",
       "    .dataframe tbody tr th:only-of-type {\n",
       "        vertical-align: middle;\n",
       "    }\n",
       "\n",
       "    .dataframe tbody tr th {\n",
       "        vertical-align: top;\n",
       "    }\n",
       "\n",
       "    .dataframe thead th {\n",
       "        text-align: right;\n",
       "    }\n",
       "</style>\n",
       "<table border=\"1\" class=\"dataframe\">\n",
       "  <thead>\n",
       "    <tr style=\"text-align: right;\">\n",
       "      <th></th>\n",
       "      <th>DISBURSAL_DATE</th>\n",
       "      <th>DATE_OF_BIRTH</th>\n",
       "    </tr>\n",
       "    <tr>\n",
       "      <th>UNIQUEID</th>\n",
       "      <th></th>\n",
       "      <th></th>\n",
       "    </tr>\n",
       "  </thead>\n",
       "  <tbody>\n",
       "    <tr>\n",
       "      <th>476388</th>\n",
       "      <td>2018-08-30</td>\n",
       "      <td>01-08-1983</td>\n",
       "    </tr>\n",
       "    <tr>\n",
       "      <th>635831</th>\n",
       "      <td>2018-10-29</td>\n",
       "      <td>05-02-1982</td>\n",
       "    </tr>\n",
       "    <tr>\n",
       "      <th>611683</th>\n",
       "      <td>2018-10-24</td>\n",
       "      <td>03-12-1979</td>\n",
       "    </tr>\n",
       "    <tr>\n",
       "      <th>585313</th>\n",
       "      <td>2018-10-17</td>\n",
       "      <td>17-07-1976</td>\n",
       "    </tr>\n",
       "    <tr>\n",
       "      <th>589099</th>\n",
       "      <td>2018-10-19</td>\n",
       "      <td>01-07-1991</td>\n",
       "    </tr>\n",
       "    <tr>\n",
       "      <th>628733</th>\n",
       "      <td>2018-10-27</td>\n",
       "      <td>02-05-1994</td>\n",
       "    </tr>\n",
       "    <tr>\n",
       "      <th>446830</th>\n",
       "      <td>2018-08-18</td>\n",
       "      <td>13-08-1985</td>\n",
       "    </tr>\n",
       "    <tr>\n",
       "      <th>503758</th>\n",
       "      <td>2018-09-14</td>\n",
       "      <td>08-01-1989</td>\n",
       "    </tr>\n",
       "    <tr>\n",
       "      <th>603728</th>\n",
       "      <td>2018-10-23</td>\n",
       "      <td>24-05-1994</td>\n",
       "    </tr>\n",
       "    <tr>\n",
       "      <th>498090</th>\n",
       "      <td>2018-10-09</td>\n",
       "      <td>06-08-1978</td>\n",
       "    </tr>\n",
       "  </tbody>\n",
       "</table>\n",
       "</div>"
      ],
      "text/plain": [
       "         DISBURSAL_DATE DATE_OF_BIRTH\n",
       "UNIQUEID                             \n",
       "476388       2018-08-30    01-08-1983\n",
       "635831       2018-10-29    05-02-1982\n",
       "611683       2018-10-24    03-12-1979\n",
       "585313       2018-10-17    17-07-1976\n",
       "589099       2018-10-19    01-07-1991\n",
       "628733       2018-10-27    02-05-1994\n",
       "446830       2018-08-18    13-08-1985\n",
       "503758       2018-09-14    08-01-1989\n",
       "603728       2018-10-23    24-05-1994\n",
       "498090       2018-10-09    06-08-1978"
      ]
     },
     "execution_count": 27,
     "metadata": {},
     "output_type": "execute_result"
    }
   ],
   "source": [
    "#Print DISBURSAL_DATE and DATE_OF_BIRTH\n",
    "loan_df[['DISBURSAL_DATE', 'DATE_OF_BIRTH']].sample(10)"
   ]
  },
  {
   "cell_type": "markdown",
   "metadata": {},
   "source": [
    "### Calculating Age \n",
    "\n",
    "- Intuitively it is fair to assume that age is associated with loan default risk \n",
    "- However, we currently do not have a measure of age, only date of birth\n",
    "\n",
    "\n",
    "### EXERCISE \n",
    "\n",
    "- Can you create a new column 'AGE' based on the existing DATE_OF_BIRTH and DISUBURAL_DATE columns\n",
    "- HINT: use [pd.to_datetime](https://pandas.pydata.org/pandas-docs/stable/reference/api/pandas.to_datetime.html) to convert from string to datetime"
   ]
  },
  {
   "cell_type": "markdown",
   "metadata": {},
   "source": [
    "### SOLUTION"
   ]
  },
  {
   "cell_type": "code",
   "execution_count": null,
   "metadata": {},
   "outputs": [],
   "source": [
    "#type solution here"
   ]
  },
  {
   "cell_type": "markdown",
   "metadata": {},
   "source": [
    "### SOLUTION - EXPLAINED\n",
    "\n",
    "- First, make sure that DATE_OF_BIRTH and DISBURSAL_DATE are datetimes"
   ]
  },
  {
   "cell_type": "code",
   "execution_count": 33,
   "metadata": {},
   "outputs": [
    {
     "name": "stdout",
     "output_type": "stream",
     "text": [
      "DATE_OF_BIRTH variable type:  datetime64[ns]\n",
      "DISBURSAL_DATE variable type:  datetime64[ns]\n"
     ]
    }
   ],
   "source": [
    "#step 1\n",
    "loan_df['DISBURSAL_DATE'] = pd.to_datetime(loan_df['DISBURSAL_DATE'])\n",
    "loan_df['DATE_OF_BIRTH'] = pd.to_datetime(loan_df['DATE_OF_BIRTH'])\n",
    "print(\"DATE_OF_BIRTH variable type: \", loan_df['DATE_OF_BIRTH'].dtypes)\n",
    "print(\"DISBURSAL_DATE variable type: \", loan_df['DISBURSAL_DATE'].dtypes)"
   ]
  },
  {
   "cell_type": "markdown",
   "metadata": {},
   "source": [
    "- now calculate the difference between DISBURSAL_DATE and DATE_OF_BIRTH"
   ]
  },
  {
   "cell_type": "code",
   "execution_count": 31,
   "metadata": {},
   "outputs": [
    {
     "data": {
      "text/plain": [
       "UNIQUEID\n",
       "644993    9037 days\n",
       "566280   20006 days\n",
       "425130   11511 days\n",
       "529493   16859 days\n",
       "516745   19984 days\n",
       "578627   20185 days\n",
       "483258    9632 days\n",
       "615539   11801 days\n",
       "493748    8182 days\n",
       "534193    9054 days\n",
       "Name: AGE, dtype: timedelta64[ns]"
      ]
     },
     "execution_count": 31,
     "metadata": {},
     "output_type": "execute_result"
    }
   ],
   "source": [
    "#step 2\n",
    "loan_df['AGE'] = loan_df['DISBURSAL_DATE'] - loan_df['DATE_OF_BIRTH']\n",
    "loan_df['AGE'].sample(10)"
   ]
  },
  {
   "cell_type": "markdown",
   "metadata": {},
   "source": [
    "- now we have the age in days \n",
    "- divide age by 1 year\n",
    "- // operator performs division and rounds down to the nearest whole number"
   ]
  },
  {
   "cell_type": "code",
   "execution_count": 35,
   "metadata": {},
   "outputs": [],
   "source": [
    "#step 3\n",
    "loan_df['AGE'] = loan_df['AGE'] // np.timedelta64(1, 'Y')"
   ]
  },
  {
   "cell_type": "markdown",
   "metadata": {},
   "source": [
    "- sanity check our output"
   ]
  },
  {
   "cell_type": "code",
   "execution_count": 37,
   "metadata": {},
   "outputs": [
    {
     "name": "stdout",
     "output_type": "stream",
     "text": [
      "         DATE_OF_BIRTH  AGE DISBURSAL_DATE\n",
      "UNIQUEID                                  \n",
      "500531      1997-08-08   21     2018-11-09\n",
      "528943      1989-10-17   28     2018-09-23\n",
      "509917      1988-01-23   30     2018-09-16\n",
      "613880      1990-07-27   28     2018-10-24\n",
      "631619      1983-01-01   35     2018-10-27\n"
     ]
    }
   ],
   "source": [
    "#step 4\n",
    "print(loan_df[['DATE_OF_BIRTH', 'AGE', 'DISBURSAL_DATE']].sample(n=5))"
   ]
  },
  {
   "cell_type": "markdown",
   "metadata": {},
   "source": [
    "### Disbursal Month\n",
    "\n",
    "- At this point, we do not know how the disbursal date might be related to loan defaults\n",
    "- We want to explore this relationship so need to convert to a numeric representation\n",
    "\n",
    "### EXERCISE \n",
    "\n",
    "- Can you create a new column 'DISBURSAL_MONTH' to store the disbursal month as an integer\n",
    "- HINT: pandas [dt](https://pandas.pydata.org/pandas-docs/stable/reference/api/pandas.Series.dt.html) allows us to extract month as an integer from a datetime"
   ]
  },
  {
   "cell_type": "markdown",
   "metadata": {},
   "source": [
    "### SOLUTION"
   ]
  },
  {
   "cell_type": "code",
   "execution_count": 39,
   "metadata": {},
   "outputs": [
    {
     "data": {
      "text/plain": [
       "10    84875\n",
       "8     56975\n",
       "9     54443\n",
       "11     6709\n",
       "6      5991\n",
       "12     5613\n",
       "3      5148\n",
       "4      4627\n",
       "7      4150\n",
       "5      2890\n",
       "1      1708\n",
       "2        25\n",
       "Name: DISBURSAL_MONTH, dtype: int64"
      ]
     },
     "execution_count": 39,
     "metadata": {},
     "output_type": "execute_result"
    }
   ],
   "source": [
    "#Type solution here\n",
    "loan_df['DISBURSAL_MONTH'] = loan_df['DISBURSAL_DATE'].dt.month\n",
    "loan_df['DISBURSAL_MONTH'].value_counts()"
   ]
  },
  {
   "cell_type": "markdown",
   "metadata": {},
   "source": [
    "As we can see, the distribution of loan disbursals is not even across all months, we will look into this in future lessons but for now, we can drop the disbursal date column.\n",
    "\n",
    "We can now [drop](https://pandas.pydata.org/pandas-docs/stable/reference/api/pandas.DataFrame.drop.html) DISBURSAL_DATE and DATE_OF_BIRTH from our data "
   ]
  },
  {
   "cell_type": "code",
   "execution_count": 41,
   "metadata": {},
   "outputs": [],
   "source": [
    "#drop columns\n",
    "loan_df = loan_df.drop(['DISBURSAL_DATE', 'DATE_OF_BIRTH'], axis = 1)\n"
   ]
  },
  {
   "cell_type": "markdown",
   "metadata": {},
   "source": [
    "## Lesson 6 - Fix the Strings\n",
    "\n",
    "- AVERAGE_ACCT_AGE and CREDIT_HISTORY_LENGTH were also strings \n",
    "- Column names suggest they should be numeric, let's take a look "
   ]
  },
  {
   "cell_type": "markdown",
   "metadata": {},
   "source": [
    "### String Fields\n",
    "\n",
    "- Can select a subset of DataFrame columns by passing in a list of column names,  [indexing](https://pandas.pydata.org/pandas-docs/stable/user_guide/indexing.html)\n",
    "- [df.sample](https://pandas.pydata.org/pandas-docs/stable/reference/api/pandas.DataFrame.sample.html) can be used to pull a random sample of n rows"
   ]
  },
  {
   "cell_type": "code",
   "execution_count": 43,
   "metadata": {},
   "outputs": [
    {
     "data": {
      "text/html": [
       "<div>\n",
       "<style scoped>\n",
       "    .dataframe tbody tr th:only-of-type {\n",
       "        vertical-align: middle;\n",
       "    }\n",
       "\n",
       "    .dataframe tbody tr th {\n",
       "        vertical-align: top;\n",
       "    }\n",
       "\n",
       "    .dataframe thead th {\n",
       "        text-align: right;\n",
       "    }\n",
       "</style>\n",
       "<table border=\"1\" class=\"dataframe\">\n",
       "  <thead>\n",
       "    <tr style=\"text-align: right;\">\n",
       "      <th></th>\n",
       "      <th>CREDIT_HISTORY_LENGTH</th>\n",
       "      <th>AVERAGE_ACCT_AGE</th>\n",
       "    </tr>\n",
       "    <tr>\n",
       "      <th>UNIQUEID</th>\n",
       "      <th></th>\n",
       "      <th></th>\n",
       "    </tr>\n",
       "  </thead>\n",
       "  <tbody>\n",
       "    <tr>\n",
       "      <th>519831</th>\n",
       "      <td>0yrs 0mon</td>\n",
       "      <td>0yrs 0mon</td>\n",
       "    </tr>\n",
       "    <tr>\n",
       "      <th>518769</th>\n",
       "      <td>2yrs 0mon</td>\n",
       "      <td>1yrs 2mon</td>\n",
       "    </tr>\n",
       "    <tr>\n",
       "      <th>538592</th>\n",
       "      <td>0yrs 0mon</td>\n",
       "      <td>0yrs 0mon</td>\n",
       "    </tr>\n",
       "    <tr>\n",
       "      <th>640380</th>\n",
       "      <td>0yrs 0mon</td>\n",
       "      <td>0yrs 0mon</td>\n",
       "    </tr>\n",
       "    <tr>\n",
       "      <th>573903</th>\n",
       "      <td>2yrs 4mon</td>\n",
       "      <td>0yrs 10mon</td>\n",
       "    </tr>\n",
       "    <tr>\n",
       "      <th>599348</th>\n",
       "      <td>0yrs 0mon</td>\n",
       "      <td>0yrs 0mon</td>\n",
       "    </tr>\n",
       "    <tr>\n",
       "      <th>541488</th>\n",
       "      <td>0yrs 0mon</td>\n",
       "      <td>0yrs 0mon</td>\n",
       "    </tr>\n",
       "    <tr>\n",
       "      <th>598953</th>\n",
       "      <td>0yrs 0mon</td>\n",
       "      <td>0yrs 0mon</td>\n",
       "    </tr>\n",
       "    <tr>\n",
       "      <th>583280</th>\n",
       "      <td>0yrs 0mon</td>\n",
       "      <td>0yrs 0mon</td>\n",
       "    </tr>\n",
       "    <tr>\n",
       "      <th>418682</th>\n",
       "      <td>2yrs 4mon</td>\n",
       "      <td>2yrs 2mon</td>\n",
       "    </tr>\n",
       "  </tbody>\n",
       "</table>\n",
       "</div>"
      ],
      "text/plain": [
       "         CREDIT_HISTORY_LENGTH AVERAGE_ACCT_AGE\n",
       "UNIQUEID                                       \n",
       "519831               0yrs 0mon        0yrs 0mon\n",
       "518769               2yrs 0mon        1yrs 2mon\n",
       "538592               0yrs 0mon        0yrs 0mon\n",
       "640380               0yrs 0mon        0yrs 0mon\n",
       "573903               2yrs 4mon       0yrs 10mon\n",
       "599348               0yrs 0mon        0yrs 0mon\n",
       "541488               0yrs 0mon        0yrs 0mon\n",
       "598953               0yrs 0mon        0yrs 0mon\n",
       "583280               0yrs 0mon        0yrs 0mon\n",
       "418682               2yrs 4mon        2yrs 2mon"
      ]
     },
     "execution_count": 43,
     "metadata": {},
     "output_type": "execute_result"
    }
   ],
   "source": [
    "# sample 'CREDIT_HISTORY_LENGTH' and 'AVERAGE_ACCT_AGE'\n",
    "loan_df[['CREDIT_HISTORY_LENGTH', 'AVERAGE_ACCT_AGE']].sample(n=10)"
   ]
  },
  {
   "cell_type": "markdown",
   "metadata": {},
   "source": [
    "Both columns contain measures of time in the format \"0yrs 0mon\"\n",
    "\n",
    "This string representation is not useful for analysis or prediction so let's convert it into a number"
   ]
  },
  {
   "cell_type": "markdown",
   "metadata": {},
   "source": [
    "### String Manipulation\n",
    "\n",
    "The current format of AVERAGE_ACCT_AGE and CREDIT_HISTORY_LENGTH is not useful\n",
    "\n",
    "### EXERCISE\n",
    "\n",
    "- Can you create a new column 'AVERAGE_ACCT_AGE_MONTHS' to store the average account age as an integer of months?\n",
    "- HINT: First think about how to extract numbers from the String\n",
    "- HINT: [df['COL_NAME'].map()](https://pandas.pydata.org/pandas-docs/stable/reference/api/pandas.Series.map.html) can be used to perform functions/operations on an entire column"
   ]
  },
  {
   "cell_type": "markdown",
   "metadata": {},
   "source": [
    "### SOLUTION \n",
    "\n",
    "### Step 1 - Create a function which can calculate the total number of months based on a list of input strings\n",
    "\n",
    "The calc_months function simply takes the list of two numbers stored in AVERAGE_ACCT_AGE_MONTHS\n",
    "\n",
    "- We recognize that the first number is the number of years \n",
    "- The second is the number of months \n",
    "- Simple calculation to get the total number of years"
   ]
  },
  {
   "cell_type": "code",
   "execution_count": 44,
   "metadata": {},
   "outputs": [],
   "source": [
    "# step 1\n",
    "def calc_months(str_list):\n",
    "    years = int(str_list[0])\n",
    "    months = int(str_list[1])\n",
    "    \n",
    "    num_months = (years *12) + months\n",
    "    return num_months"
   ]
  },
  {
   "cell_type": "markdown",
   "metadata": {},
   "source": [
    "### Step 2 - Extract the relevant numbers from the original string data\n",
    "\n",
    "Pandas str.findall can be used to find all instances of a string within a column\n",
    "\n",
    "the '\\d+' is a regular expression which finds integers in a string\n",
    "\n",
    "regular expressions can be used to identify and extract patterns in strings\n",
    "all you need to know for know is that loan_df'AVERAGE_ACCT_AGE'.str.findall('\\d+') returns a list of all the numbers in the string stored in the 'AVERAGE_ACCT_AGE' column"
   ]
  },
  {
   "cell_type": "code",
   "execution_count": 47,
   "metadata": {},
   "outputs": [
    {
     "name": "stdout",
     "output_type": "stream",
     "text": [
      "UNIQUEID\n",
      "598709    [1, 10]\n",
      "510778     [1, 4]\n",
      "597073     [0, 6]\n",
      "428274     [0, 0]\n",
      "589812     [0, 0]\n",
      "641904     [2, 3]\n",
      "609908     [0, 8]\n",
      "482483     [0, 0]\n",
      "585800     [3, 6]\n",
      "528891     [0, 0]\n",
      "Name: AVERAGE_ACCT_AGE_MONTH, dtype: object\n"
     ]
    }
   ],
   "source": [
    "#step 2\n",
    "loan_df['AVERAGE_ACCT_AGE_MONTH'] = loan_df['AVERAGE_ACCT_AGE'].str.findall('\\d+')\n",
    "print(loan_df['AVERAGE_ACCT_AGE_MONTH'].sample(n=10))"
   ]
  },
  {
   "cell_type": "markdown",
   "metadata": {},
   "source": [
    "This creates a column 'AVERAGE_ACCT_AGE_MONTHS' which stores a list of numbers where the first item represents the number of years and the second represents the number of months\n",
    "\n",
    "### Step 3 - Use map to perform calc_months across all rows\n",
    "\n",
    "Use [map](https://pandas.pydata.org/pandas-docs/stable/reference/api/pandas.Series.map.html) to apply a function which calculates the total number of months for each row in the dataframe"
   ]
  },
  {
   "cell_type": "code",
   "execution_count": 49,
   "metadata": {},
   "outputs": [],
   "source": [
    "#step 3\n",
    "loan_df['AVERAGE_ACCT_AGE_MONTH'] = loan_df['AVERAGE_ACCT_AGE_MONTH'].map(calc_months)"
   ]
  },
  {
   "cell_type": "markdown",
   "metadata": {},
   "source": [
    "### Step 4 - Inspect the results"
   ]
  },
  {
   "cell_type": "code",
   "execution_count": 53,
   "metadata": {},
   "outputs": [
    {
     "name": "stdout",
     "output_type": "stream",
     "text": [
      "         AVERAGE_ACCT_AGE  AVERAGE_ACCT_AGE_MONTH\n",
      "UNIQUEID                                         \n",
      "440872          0yrs 0mon                       0\n",
      "480123          0yrs 0mon                       0\n",
      "436829          1yrs 5mon                      17\n",
      "557366          0yrs 8mon                       8\n",
      "440003          0yrs 9mon                       9\n",
      "651073          0yrs 0mon                       0\n",
      "631715          0yrs 0mon                       0\n",
      "529985          0yrs 0mon                       0\n",
      "524348          0yrs 0mon                       0\n",
      "497670          0yrs 0mon                       0\n"
     ]
    }
   ],
   "source": [
    "#step 4\n",
    "print(loan_df[['AVERAGE_ACCT_AGE','AVERAGE_ACCT_AGE_MONTH']].sample(n=10))"
   ]
  },
  {
   "cell_type": "markdown",
   "metadata": {},
   "source": [
    "### More String Manipulation\n",
    "\n",
    "- Great, now we have fixed AVERAGE_ACCT_AGE how about CREDIT_HISTORY_LENGTH?\n",
    "- We could simply copy and paste our solution from the previous exercise\n",
    "- How about if we had 20 columns to fix instead of 2?\n",
    "\n",
    "### EXERCISE\n",
    "\n",
    "- Convert your solution to the previous exercise into a function and use it to fix CREDIT_HISTORY_LENGTH"
   ]
  },
  {
   "cell_type": "markdown",
   "metadata": {},
   "source": [
    "### SOLUTION"
   ]
  },
  {
   "cell_type": "code",
   "execution_count": 61,
   "metadata": {},
   "outputs": [],
   "source": [
    "def convert_str_to_months(col_name):\n",
    "    new_col = col_name + '_MONTHS'\n",
    "    loan_df[new_col] = loan_df[col_name].str.findall('\\d+')\n",
    "    loan_df[new_col] = loan_df[new_col].map(calc_months)\n",
    "    #type solution here"
   ]
  },
  {
   "cell_type": "markdown",
   "metadata": {},
   "source": [
    "Run the function and check the output"
   ]
  },
  {
   "cell_type": "code",
   "execution_count": 62,
   "metadata": {},
   "outputs": [
    {
     "data": {
      "text/html": [
       "<div>\n",
       "<style scoped>\n",
       "    .dataframe tbody tr th:only-of-type {\n",
       "        vertical-align: middle;\n",
       "    }\n",
       "\n",
       "    .dataframe tbody tr th {\n",
       "        vertical-align: top;\n",
       "    }\n",
       "\n",
       "    .dataframe thead th {\n",
       "        text-align: right;\n",
       "    }\n",
       "</style>\n",
       "<table border=\"1\" class=\"dataframe\">\n",
       "  <thead>\n",
       "    <tr style=\"text-align: right;\">\n",
       "      <th></th>\n",
       "      <th>CREDIT_HISTORY_LENGTH_MONTHS</th>\n",
       "      <th>CREDIT_HISTORY_LENGTH</th>\n",
       "    </tr>\n",
       "    <tr>\n",
       "      <th>UNIQUEID</th>\n",
       "      <th></th>\n",
       "      <th></th>\n",
       "    </tr>\n",
       "  </thead>\n",
       "  <tbody>\n",
       "    <tr>\n",
       "      <th>559751</th>\n",
       "      <td>0</td>\n",
       "      <td>0yrs 0mon</td>\n",
       "    </tr>\n",
       "    <tr>\n",
       "      <th>436868</th>\n",
       "      <td>0</td>\n",
       "      <td>0yrs 0mon</td>\n",
       "    </tr>\n",
       "    <tr>\n",
       "      <th>621926</th>\n",
       "      <td>14</td>\n",
       "      <td>1yrs 2mon</td>\n",
       "    </tr>\n",
       "    <tr>\n",
       "      <th>436738</th>\n",
       "      <td>19</td>\n",
       "      <td>1yrs 7mon</td>\n",
       "    </tr>\n",
       "    <tr>\n",
       "      <th>597164</th>\n",
       "      <td>3</td>\n",
       "      <td>0yrs 3mon</td>\n",
       "    </tr>\n",
       "    <tr>\n",
       "      <th>507998</th>\n",
       "      <td>0</td>\n",
       "      <td>0yrs 0mon</td>\n",
       "    </tr>\n",
       "    <tr>\n",
       "      <th>424432</th>\n",
       "      <td>0</td>\n",
       "      <td>0yrs 0mon</td>\n",
       "    </tr>\n",
       "    <tr>\n",
       "      <th>610693</th>\n",
       "      <td>25</td>\n",
       "      <td>2yrs 1mon</td>\n",
       "    </tr>\n",
       "    <tr>\n",
       "      <th>571868</th>\n",
       "      <td>0</td>\n",
       "      <td>0yrs 0mon</td>\n",
       "    </tr>\n",
       "    <tr>\n",
       "      <th>608352</th>\n",
       "      <td>0</td>\n",
       "      <td>0yrs 0mon</td>\n",
       "    </tr>\n",
       "  </tbody>\n",
       "</table>\n",
       "</div>"
      ],
      "text/plain": [
       "          CREDIT_HISTORY_LENGTH_MONTHS CREDIT_HISTORY_LENGTH\n",
       "UNIQUEID                                                    \n",
       "559751                               0             0yrs 0mon\n",
       "436868                               0             0yrs 0mon\n",
       "621926                              14             1yrs 2mon\n",
       "436738                              19             1yrs 7mon\n",
       "597164                               3             0yrs 3mon\n",
       "507998                               0             0yrs 0mon\n",
       "424432                               0             0yrs 0mon\n",
       "610693                              25             2yrs 1mon\n",
       "571868                               0             0yrs 0mon\n",
       "608352                               0             0yrs 0mon"
      ]
     },
     "execution_count": 62,
     "metadata": {},
     "output_type": "execute_result"
    }
   ],
   "source": [
    "#check output\n",
    "convert_str_to_months('CREDIT_HISTORY_LENGTH')\n",
    "loan_df[['CREDIT_HISTORY_LENGTH_MONTHS', 'CREDIT_HISTORY_LENGTH']].sample(10)"
   ]
  },
  {
   "cell_type": "markdown",
   "metadata": {},
   "source": [
    "Looks good, remember to drop the columns you don't need"
   ]
  },
  {
   "cell_type": "code",
   "execution_count": 63,
   "metadata": {},
   "outputs": [],
   "source": [
    "#drop 'CREDIT_HISTORY_LENGTH' and 'AVERAGE_ACCT_AGE'y\n",
    "loan_df = loan_df.drop(['CREDIT_HISTORY_LENGTH', 'AVERAGE_ACCT_AGE'], axis=1)"
   ]
  },
  {
   "cell_type": "markdown",
   "metadata": {},
   "source": [
    "### Conclusion \n",
    "\n",
    "- We have now cleaned all of the ‘object’ columns except ‘PERFORM_CNS_SCORE_DESCRIPTION’\n",
    "- Use [value_counts](https://pandas.pydata.org/pandas-docs/stable/reference/api/pandas.Series.value_counts.html) to have a quick look at this "
   ]
  },
  {
   "cell_type": "code",
   "execution_count": 64,
   "metadata": {},
   "outputs": [
    {
     "data": {
      "text/plain": [
       "No Bureau History Available                                116950\n",
       "C-Very Low Risk                                             16045\n",
       "A-Very Low Risk                                             14124\n",
       "D-Very Low Risk                                             11358\n",
       "B-Very Low Risk                                              9201\n",
       "M-Very High Risk                                             8776\n",
       "F-Low Risk                                                   8485\n",
       "K-High Risk                                                  8277\n",
       "H-Medium Risk                                                6855\n",
       "E-Low Risk                                                   5821\n",
       "I-Medium Risk                                                5557\n",
       "G-Low Risk                                                   3988\n",
       "Not Scored: Sufficient History Not Available                 3765\n",
       "J-High Risk                                                  3748\n",
       "Not Scored: Not Enough Info available on the customer        3672\n",
       "Not Scored: No Activity seen on the customer (Inactive)      2885\n",
       "Not Scored: No Updates available in last 36 months           1534\n",
       "L-Very High Risk                                             1134\n",
       "Not Scored: Only a Guarantor                                  976\n",
       "Not Scored: More than 50 active Accounts found                  3\n",
       "Name: PERFORM_CNS_SCORE_DESCRIPTION, dtype: int64"
      ]
     },
     "execution_count": 64,
     "metadata": {},
     "output_type": "execute_result"
    }
   ],
   "source": [
    "#use value_counts to investigate PERFORM_CNS_SCORE_DESCRIPTION\n",
    "loan_df['PERFORM_CNS_SCORE_DESCRIPTION'].value_counts()"
   ]
  },
  {
   "cell_type": "markdown",
   "metadata": {},
   "source": [
    "Looks like a categorical field, we will look at this again in the next chapter\n",
    "\n",
    "We are now finished with our data clean up, let's save our clean data to a new csv using [df.to_csv](https://pandas.pydata.org/pandas-docs/stable/reference/api/pandas.DataFrame.to_csv.html)"
   ]
  },
  {
   "cell_type": "code",
   "execution_count": 65,
   "metadata": {},
   "outputs": [],
   "source": [
    "#save cleaned data\n",
    "loan_df.to_csv('../data/vehicle_loans_clean.csv')"
   ]
  },
  {
   "cell_type": "code",
   "execution_count": null,
   "metadata": {},
   "outputs": [],
   "source": []
  }
 ],
 "metadata": {
  "kernelspec": {
   "display_name": "Python 3 (ipykernel)",
   "language": "python",
   "name": "python3"
  },
  "language_info": {
   "codemirror_mode": {
    "name": "ipython",
    "version": 3
   },
   "file_extension": ".py",
   "mimetype": "text/x-python",
   "name": "python",
   "nbconvert_exporter": "python",
   "pygments_lexer": "ipython3",
   "version": "3.9.12"
  }
 },
 "nbformat": 4,
 "nbformat_minor": 2
}
